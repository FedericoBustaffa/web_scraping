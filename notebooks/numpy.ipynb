{
 "cells": [
  {
   "cell_type": "markdown",
   "metadata": {
    "slideshow": {
     "slide_type": "slide"
    }
   },
   "source": [
    "# Numpy\n",
    "\n",
    "## Installazione\n",
    "\n",
    "Per installare pandas con il package manager `pip` eseguire il comando\n",
    "\n",
    "```bash\n",
    "pip install numpy\n",
    "```"
   ]
  },
  {
   "cell_type": "markdown",
   "metadata": {
    "slideshow": {
     "slide_type": "slide"
    }
   },
   "source": [
    "## Importare il modulo\n",
    "\n",
    "Per importare le funzionalità di `numpy` importare il modulo come segue"
   ]
  },
  {
   "cell_type": "code",
   "execution_count": 5,
   "metadata": {
    "slideshow": {
     "slide_type": "-"
    }
   },
   "outputs": [],
   "source": [
    "import numpy as np"
   ]
  },
  {
   "cell_type": "markdown",
   "metadata": {
    "slideshow": {
     "slide_type": "slide"
    }
   },
   "source": [
    "## Numpy Array\n",
    "\n",
    "Il modulo `numpy` offre una struttura dati simile alla lista di python ma con proprietà matematiche implementate al suo interno.\n",
    "\n",
    "Possiamo dire che l'`array` offerto da `numpy` sia di fatto un'implementazione di vettori e matrici usati nell'algebra vettoriale."
   ]
  },
  {
   "cell_type": "code",
   "execution_count": 26,
   "metadata": {
    "slideshow": {
     "slide_type": "-"
    }
   },
   "outputs": [
    {
     "name": "stdout",
     "output_type": "stream",
     "text": [
      "Vettore\n",
      "[1.2 2.5 3.2]\n",
      "Matrice 2 x 2\n",
      "[[3.2 1.4]\n",
      " [5.3 7.3]]\n"
     ]
    }
   ],
   "source": [
    "vettore = np.array([1.2, 2.5, 3.2])\n",
    "matrice = np.array([\n",
    "    [3.2, 1.4],\n",
    "    [5.3, 7.3]\n",
    "])\n",
    "\n",
    "print(f\"Vettore\\n{vettore}\")\n",
    "print(f\"Matrice 2 x 2\\n{matrice}\")"
   ]
  },
  {
   "cell_type": "markdown",
   "metadata": {
    "slideshow": {
     "slide_type": "slide"
    }
   },
   "source": [
    "## Attributi\n",
    "\n",
    "Tra gli attributi principali di un `numpy array` abbiamo\n",
    "- **Dimensione**: numero di elementi nell'array.\n",
    "- **Forma**: forma dell'array restituita sottoforma di tupla.\n",
    "- **Tipo**: tipo dei dati presenti nell'array."
   ]
  },
  {
   "cell_type": "code",
   "execution_count": 21,
   "metadata": {
    "slideshow": {
     "slide_type": "-"
    }
   },
   "outputs": [
    {
     "name": "stdout",
     "output_type": "stream",
     "text": [
      "Dimensione matrice: 4\n"
     ]
    }
   ],
   "source": [
    "print(f\"Dimensione matrice: {np.size(matrice)}\")\n",
    "# print(f\"Dimensione matrice: {matrice.size}\")"
   ]
  },
  {
   "cell_type": "code",
   "execution_count": 27,
   "metadata": {
    "slideshow": {
     "slide_type": "-"
    }
   },
   "outputs": [
    {
     "name": "stdout",
     "output_type": "stream",
     "text": [
      "Forma matrice: (2, 2)\n"
     ]
    }
   ],
   "source": [
    "print(f\"Forma matrice: {np.shape(matrice)}\")\n",
    "# print(f\"Forma matrice: {matrice.shape}\")"
   ]
  },
  {
   "cell_type": "code",
   "execution_count": 28,
   "metadata": {
    "slideshow": {
     "slide_type": "-"
    }
   },
   "outputs": [
    {
     "name": "stdout",
     "output_type": "stream",
     "text": [
      "Tipo matrice: float64\n"
     ]
    }
   ],
   "source": [
    "print(f\"Tipo matrice: {matrice.dtype}\")"
   ]
  },
  {
   "cell_type": "code",
   "execution_count": null,
   "metadata": {},
   "outputs": [],
   "source": []
  }
 ],
 "metadata": {
  "celltoolbar": "Slideshow",
  "kernelspec": {
   "display_name": "Python 3 (ipykernel)",
   "language": "python",
   "name": "python3"
  },
  "language_info": {
   "codemirror_mode": {
    "name": "ipython",
    "version": 3
   },
   "file_extension": ".py",
   "mimetype": "text/x-python",
   "name": "python",
   "nbconvert_exporter": "python",
   "pygments_lexer": "ipython3",
   "version": "3.10.6"
  },
  "vscode": {
   "interpreter": {
    "hash": "916dbcbb3f70747c44a77c7bcd40155683ae19c65e1c03b4aa3499c5328201f1"
   }
  }
 },
 "nbformat": 4,
 "nbformat_minor": 2
}
