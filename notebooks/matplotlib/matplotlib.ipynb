{
 "cells": [
  {
   "cell_type": "markdown",
   "metadata": {
    "slideshow": {
     "slide_type": "slide"
    }
   },
   "source": [
    "<h1><center> WebScraping </h1>\n",
    "<h1><center> Anno Accademico 2022-2023 </h1>\n",
    "<h1><center>  Docente: Laura Ricci </h1>\n",
    "<h1><center>  Lezione 3 </h1>\n",
    "<h1><center>  Python by Example: </h1>\n",
    "<h1><center>    Calcolo di Probabilità </h1>\n",
    "<h1><center> 31 Gennaio 2023 </h1>"
   ]
  },
  {
   "cell_type": "markdown",
   "metadata": {
    "slideshow": {
     "slide_type": "slide"
    }
   },
   "source": [
    "# Struttura della lezione\n",
    "\n",
    "* approfondimenti: liste, tuple, dictionaries\n",
    "* soluzione proposta dell'assignment\n",
    "    * lanci multipli di un dado equo\n",
    "* lanci multipli di una moneta \"equa\"\n",
    "    * visualizzare lo spazio degli eventi\n",
    "    * Matplotlib: line plot, scatter plot, bar plot\n",
    "* Slide con soulzione di esercizi proposti: **Esercizio xx**\n",
    "* Slide di approfondimento Python: **Approfondimenti**\n"
   ]
  },
  {
   "cell_type": "markdown",
   "metadata": {
    "slideshow": {
     "slide_type": "slide"
    }
   },
   "source": [
    "# Approfondimenti: liste\n",
    "\n",
    "* collezione **ordinata** di oggetti eterogenei (di qualsiasi tipo, liste di liste,...)\n",
    "* può contenere **duplicati** (a differenza dei set)\n",
    "* mutabili\n",
    "    * si possono modificare i singoli elementi di una lista\n",
    "* accesso per indice\n",
    "* creata utilizzando\n",
    "    * il costruttore list\n",
    "    * le parentesi quadre"
   ]
  },
  {
   "cell_type": "markdown",
   "metadata": {
    "slideshow": {
     "slide_type": "slide"
    }
   },
   "source": [
    "# Approfondimenti: liste, operatore \"in\" \n"
   ]
  },
  {
   "cell_type": "code",
   "execution_count": null,
   "metadata": {
    "slideshow": {
     "slide_type": "fragment"
    }
   },
   "outputs": [],
   "source": [
    "food = [\"apple\", \"orange\", \"banana\", \"cherry\", [\"blueberry\", \"strawberry\", \"raspberry\"]]\n",
    "print(\"apple\" in food)\n",
    "print(\"pear\" in food)\n",
    "print(\"blueberry\" in food)\n"
   ]
  },
  {
   "cell_type": "code",
   "execution_count": null,
   "metadata": {
    "slideshow": {
     "slide_type": "fragment"
    }
   },
   "outputs": [],
   "source": [
    "print([] in food)\n",
    "print([\"apple\", \"orange\"] in food)\n",
    "print([\"blueberry\", \"strawberry\", \"raspberry\"] in food)\n"
   ]
  },
  {
   "cell_type": "markdown",
   "metadata": {
    "slideshow": {
     "slide_type": "slide"
    }
   },
   "source": [
    "# Approfondimenti: liste, altri metodi"
   ]
  },
  {
   "cell_type": "code",
   "execution_count": null,
   "metadata": {
    "slideshow": {
     "slide_type": "fragment"
    }
   },
   "outputs": [],
   "source": [
    "L = [4,5,6]\n",
    "L.append(10)\n",
    "print(L)\n",
    "L.extend([9,8,7])\n",
    "print(L)\n"
   ]
  },
  {
   "cell_type": "code",
   "execution_count": null,
   "metadata": {
    "slideshow": {
     "slide_type": "fragment"
    }
   },
   "outputs": [],
   "source": [
    "L.insert(3, 4.5)\n",
    "print(L)\n",
    "L.remove(4.5)\n",
    "print(L)"
   ]
  },
  {
   "cell_type": "markdown",
   "metadata": {
    "slideshow": {
     "slide_type": "slide"
    }
   },
   "source": [
    " # Approfondimeti: liste, slicing"
   ]
  },
  {
   "cell_type": "code",
   "execution_count": null,
   "metadata": {
    "slideshow": {
     "slide_type": "fragment"
    }
   },
   "outputs": [],
   "source": [
    "L = ['a','b','c','d','e','f']\n",
    "L[1:3] = ['g', 'h']\n",
    "print(L)"
   ]
  },
  {
   "cell_type": "code",
   "execution_count": null,
   "metadata": {
    "slideshow": {
     "slide_type": "fragment"
    }
   },
   "outputs": [],
   "source": [
    "L = ['a','b','c','d','e','f']\n",
    "L[1:3] = []\n",
    "print(L)"
   ]
  },
  {
   "cell_type": "code",
   "execution_count": null,
   "metadata": {
    "slideshow": {
     "slide_type": "fragment"
    }
   },
   "outputs": [],
   "source": [
    "L = ['a','d','f']\n",
    "L[1:1] = ['b','c']\n",
    "print(L)"
   ]
  },
  {
   "cell_type": "code",
   "execution_count": null,
   "metadata": {
    "slideshow": {
     "slide_type": "fragment"
    }
   },
   "outputs": [],
   "source": [
    "L[4:4] = ['e']\n",
    "print(L)"
   ]
  },
  {
   "cell_type": "markdown",
   "metadata": {
    "slideshow": {
     "slide_type": "slide"
    }
   },
   "source": [
    " # Approfondimenti: liste, aggiornamenti\n",
    " \n",
    " * le liste sono\n",
    "     * strutture mutabili\n",
    "     * contengono sempre riferimenti agli oggetti, non gli oggetti stessi"
   ]
  },
  {
   "cell_type": "code",
   "execution_count": null,
   "metadata": {
    "slideshow": {
     "slide_type": "fragment"
    }
   },
   "outputs": [],
   "source": [
    "L1 = [\"orange\",\"peach\",\"banana\"]\n",
    "L2 = [\"blueberry\",\"strawberry\"]\n",
    "JoinL= [L1,L2]\n",
    "print(JoinL)\n"
   ]
  },
  {
   "cell_type": "code",
   "execution_count": null,
   "metadata": {
    "slideshow": {
     "slide_type": "fragment"
    }
   },
   "outputs": [],
   "source": [
    "L1[2] = \"apple\"\n",
    "print(JoinL)\n",
    "L2.append(\"tangerines\")\n",
    "print(JoinL)\n",
    "JoinL[1][1] = \"pear\"\n",
    "print(L2)\n"
   ]
  },
  {
   "cell_type": "markdown",
   "metadata": {
    "slideshow": {
     "slide_type": "slide"
    }
   },
   "source": [
    "# Approfondimenti: il meccanismo della \"comprehension\"\n",
    "\n",
    "* più **\"pythonic\"** rispetto al classico for loop\n",
    "* il meccanismo di comprehension, nel caso delle liste\n",
    "    * permette di filtrare e/o trasformare una lista, creandone una nuova\n",
    "    * la lista originale non viene modificata\n",
    "    * utilizzabile non solo per filtrare elementi da liste, ma da qualsiasi oggetto iterabile (insiemi, tuple, dizionari) \n",
    "* vantaggi\n",
    "    * leggibilità\n",
    "    * performance\n",
    "* sintassi generale della comprehesion"
   ]
  },
  {
   "cell_type": "code",
   "execution_count": null,
   "metadata": {
    "slideshow": {
     "slide_type": "fragment"
    }
   },
   "outputs": [],
   "source": [
    "Filtered_List = [expression(element)\n",
    "                for element in Source_List\n",
    "                if condition(element)]"
   ]
  },
  {
   "cell_type": "markdown",
   "metadata": {
    "slideshow": {
     "slide_type": "slide"
    }
   },
   "source": [
    "# Approfondimenti: il meccanismo della \"comprehension\": filtrare\n",
    "\n",
    "* permette di creare una nuova lista a partire da un oggetto iterabile **O**\n",
    "* la nuova lista contiene solo gli elementi di **O** che soddisfano una certa condizione"
   ]
  },
  {
   "cell_type": "code",
   "execution_count": null,
   "metadata": {
    "slideshow": {
     "slide_type": "fragment"
    }
   },
   "outputs": [],
   "source": [
    "filastrocca = 'trentatré trentini entrarono a Trento, tutti e trentatré trotterellando?'.split()\n",
    "print(filastrocca)\n",
    "listaparole = [x for x in filastrocca if 'tr' in x]\n",
    "print(listaparole)"
   ]
  },
  {
   "cell_type": "markdown",
   "metadata": {
    "slideshow": {
     "slide_type": "slide"
    }
   },
   "source": [
    "# Approfondimenti: il meccanismo della \"comprehension\": trasformare"
   ]
  },
  {
   "cell_type": "code",
   "execution_count": null,
   "metadata": {
    "slideshow": {
     "slide_type": "fragment"
    }
   },
   "outputs": [],
   "source": [
    "txns = [1.09, 23.56, 57.84, 4.56, 6.78]\n",
    "TAX_RATE = .08\n",
    "def get_price_with_tax(txn):\n",
    "    return txn * (1 + TAX_RATE)\n",
    "final_prices = [get_price_with_tax(i) for i in txns if i>2]\n",
    "print(final_prices)\n"
   ]
  },
  {
   "cell_type": "markdown",
   "metadata": {
    "slideshow": {
     "slide_type": "slide"
    }
   },
   "source": [
    "# Approfondimenti: liste,  \"comprehension\" o \"for loop\"?"
   ]
  },
  {
   "cell_type": "code",
   "execution_count": null,
   "metadata": {
    "slideshow": {
     "slide_type": "fragment"
    }
   },
   "outputs": [],
   "source": [
    "import time\n",
    "\n",
    "MILLION_NUMBERS = list(range(10000000))\n",
    "\n",
    "def for_loop():\n",
    "    output = []\n",
    "    for element in MILLION_NUMBERS:\n",
    "        if not element % 2:\n",
    "            output.append(element)\n",
    "    return output\n",
    "\n",
    "st = time.time()\n",
    "for_loop()\n",
    "et = time.time()\n",
    "elapsed_time = et - st\n",
    "print(f\"tempo del for_loop {elapsed_time}\")\n",
    "\n",
    "def list_comprehension():\n",
    "    return [number for number in MILLION_NUMBERS if not number % 2]\n",
    "\n",
    "st = time.time()\n",
    "list_comprehension()\n",
    "et = time.time()\n",
    "elapsed_time = et - st\n",
    "print(f\"tempo list_comprehension {elapsed_time}\")"
   ]
  },
  {
   "cell_type": "markdown",
   "metadata": {
    "slideshow": {
     "slide_type": "slide"
    }
   },
   "source": [
    "# Approfondimenti: tuple\n",
    "\n",
    "* versione **immutabile** delle liste\n",
    "    * impossibile cambiare un elemento di una tupla\n",
    "* **ordinate**\n",
    "* eterogenee\n",
    "* quali usi?\n",
    "  * possono essere usate come **chiavi** in dizionari\n",
    "  * utili tutte le volte che una sequenza di oggetti non cambia nel tempo, perchè l'implementazione delle tuple è      più         efficiente di quella delle liste"
   ]
  },
  {
   "cell_type": "markdown",
   "metadata": {
    "slideshow": {
     "slide_type": "slide"
    }
   },
   "source": [
    "# Ex4 (Assignment): Lanci Multipli di un dado: spazio campionario pesato\n",
    "\n",
    "* modificare l'esercizo 3 in modo da considerare uno **spazio campionario pesato**\n",
    "* gli elementi dello spazio campionario non sono più le tuple rappresentanti i sei lanci del dado\n",
    "* ogni elemento dello spazio campionario è un possibile valore della somma dei sei dadi, associato con il numero di volte \n",
    "  in cui quella somma si può presentare\n",
    "* ricalcolare la probabilità dell'evento \"somma=21\" prendendo in considerazione lo spazio campionario modificato\n",
    "* suggerimento: utilizzate un dictionary"
   ]
  },
  {
   "cell_type": "markdown",
   "metadata": {
    "slideshow": {
     "slide_type": "slide"
    }
   },
   "source": [
    "# Lanci Multipli di un dado: spazio campionario pesato\n",
    "\n",
    "* calcoliamo \n",
    "    * i possibili valori della somma di 6 dati\n",
    "    * il numero di volte che quella somma può uscire con un lancio di 6 dadi\n",
    "* Spazio campionario pesato\n",
    "    * eventi sono le somme possibili\n",
    "    * associato ad ogni somma abbiamo il rispettivo numero di occorrenze\n",
    "* utilizzeremo un *Dizionario*"
   ]
  },
  {
   "cell_type": "markdown",
   "metadata": {
    "slideshow": {
     "slide_type": "slide"
    }
   },
   "source": [
    "# Approfondimento: Dizionari\n",
    "\n",
    "* collezione di coppie (chiave:valore)\n",
    "     * accesso per chiave\n",
    "\n",
    "* unicità delle chiavi, ma non dei valori\n",
    "\n",
    "* mutabili \n",
    "    * è possibile aggiungere/rimuovere/cambiare le associazioni tra chiave e valore\n",
    "\n",
    "* gli elementi sono \n",
    "     * ordinati da Python 3.7 in poi\n",
    "     * non ordinati nelle versioni precedenti di Python\n",
    "\n",
    "* valori di qualsiasi tipo, anche altre collezioni\n",
    "\n",
    "* creazione\n",
    "    insieme di coppie (chiave, valore) in **curly brackets**\n",
    "    costruttire dict()\n",
    "\n"
   ]
  },
  {
   "cell_type": "markdown",
   "metadata": {
    "slideshow": {
     "slide_type": "slide"
    }
   },
   "source": [
    "# Approfondimento: Dizionari\n"
   ]
  },
  {
   "cell_type": "code",
   "execution_count": null,
   "metadata": {
    "slideshow": {
     "slide_type": "fragment"
    }
   },
   "outputs": [],
   "source": [
    "vegetables = {'Cabbage': 'January', 'Asparagous' : 'June'}\n",
    "vegetables['Blueberries'] = 'August',\n",
    "vegetables['September'] = 'Grapes',\n",
    "vegetables['Cherries'] = 'May',\n",
    "vegetables['Grapes'] = 'September',\n",
    "vegetables['Tangerines'] = 'December',\n",
    "del vegetables ['Asparagous']\n",
    "print(vegetables) "
   ]
  },
  {
   "cell_type": "markdown",
   "metadata": {
    "slideshow": {
     "slide_type": "fragment"
    }
   },
   "source": [
    "* non è un pò strano che i dati vengano restituiti esattamente nell'ordine con cui sono stati inseriti?\n",
    "\n",
    "* come far convivere  ordinamento e accesso per chiave?"
   ]
  },
  {
   "cell_type": "markdown",
   "metadata": {
    "slideshow": {
     "slide_type": "slide"
    }
   },
   "source": [
    "# Approfondimento: Dizionari\n",
    "\n",
    "* \"Changed in version 3.7: Dictionary order is guaranteed to be insertion order.*"
   ]
  },
  {
   "cell_type": "markdown",
   "metadata": {
    "slideshow": {
     "slide_type": "fragment"
    }
   },
   "source": [
    "<img src=\"PythonDictionary.jpg\" style=\"width:1200px;height:700px;\" />"
   ]
  },
  {
   "cell_type": "markdown",
   "metadata": {
    "slideshow": {
     "slide_type": "slide"
    }
   },
   "source": [
    "# Approfondimento: Dizionari"
   ]
  },
  {
   "cell_type": "markdown",
   "metadata": {
    "slideshow": {
     "slide_type": "fragment"
    }
   },
   "source": [
    "* le chiavi possono esser di qualsasi tipo, purchè sia un tipo immmutabile"
   ]
  },
  {
   "cell_type": "code",
   "execution_count": null,
   "metadata": {
    "slideshow": {
     "slide_type": "fragment"
    }
   },
   "outputs": [],
   "source": [
    "reverse_vegetables={}\n",
    "reverse_vegetables={['pears', 'oranges', 'tangerines'] : 'December',\n",
    "['watermelon', 'strawberries', 'blueberries'] : 'August',\n",
    "['cherries', 'pineapples', 'apricots'] : 'December'}\n",
    "print(reverse_vegetables)\n"
   ]
  },
  {
   "cell_type": "markdown",
   "metadata": {
    "slideshow": {
     "slide_type": "fragment"
    }
   },
   "source": [
    "* una lista non è una struttura immutabile"
   ]
  },
  {
   "cell_type": "markdown",
   "metadata": {
    "slideshow": {
     "slide_type": "slide"
    }
   },
   "source": [
    "# Approfondimento: Dizionari\n",
    "\n",
    "* le tuple sono strutture immutabili\n",
    "* posso usare una tupla come una chiave per il dizionario"
   ]
  },
  {
   "cell_type": "code",
   "execution_count": null,
   "metadata": {
    "slideshow": {
     "slide_type": "fragment"
    }
   },
   "outputs": [],
   "source": [
    "reverse_vegetables={}\n",
    "reverse_vegetables={('pears', 'oranges', 'tangerines') : 'December',\n",
    "('watermelon', 'strawberries', 'blueberries'): 'August',\n",
    "('cherries', 'pineapples', 'apricots') : 'December'}\n",
    "print(reverse_vegetables) \n"
   ]
  },
  {
   "cell_type": "markdown",
   "metadata": {
    "slideshow": {
     "slide_type": "slide"
    }
   },
   "source": [
    "# Approfondimento: Dizionari"
   ]
  },
  {
   "cell_type": "code",
   "execution_count": null,
   "metadata": {
    "slideshow": {
     "slide_type": "fragment"
    }
   },
   "outputs": [],
   "source": [
    "thisdict = {\n",
    "  \"Course\": \"WebScraping\",\n",
    "  \"Teacher\": \"Laura Ricci\",\n",
    "  \"Semester\": 2\n",
    "}\n",
    "print (thisdict[\"Teacher\"])\n",
    "print (list (thisdict.keys()))\n",
    "print (list(thisdict.values()))\n"
   ]
  },
  {
   "cell_type": "markdown",
   "metadata": {
    "slideshow": {
     "slide_type": "slide"
    }
   },
   "source": [
    "# Ex 4 Lanci Multipli di un dado: spazio campionario pesato\n",
    "\n",
    "* nota: se provo a inserire un elemento duplicato in un insieme, l'elemento non viene inserito, ma non vengono sollevate   eccezioni"
   ]
  },
  {
   "cell_type": "code",
   "execution_count": null,
   "metadata": {
    "slideshow": {
     "slide_type": "fragment"
    }
   },
   "outputs": [],
   "source": [
    "x=set()\n",
    "x.add(\"Laura\")\n",
    "print(x)\n",
    "x.add(\"Laura\")\n",
    "print(x)"
   ]
  },
  {
   "cell_type": "markdown",
   "metadata": {
    "slideshow": {
     "slide_type": "slide"
    }
   },
   "source": [
    "# Ex 4 Lanci Multipli di un dado: spazio campionario pesato"
   ]
  },
  {
   "cell_type": "code",
   "execution_count": null,
   "metadata": {
    "slideshow": {
     "slide_type": "fragment"
    }
   },
   "outputs": [],
   "source": [
    "from itertools import product\n",
    "possible_rolls = list(range(1, 7))\n",
    "print(possible_rolls)\n",
    "print()\n",
    "sample_space = set(product(possible_rolls, repeat=6))\n",
    "weighted_sample_space = {sum(outcome): 0 for outcome in sample_space}\n",
    "print(weighted_sample_space)\n",
    "for outcome in sample_space:\n",
    "    total = sum(outcome)    \n",
    "    weighted_sample_space[total] += 1\n",
    "print()\n",
    "print(weighted_sample_space)\n"
   ]
  },
  {
   "cell_type": "markdown",
   "metadata": {
    "slideshow": {
     "slide_type": "slide"
    }
   },
   "source": [
    "# Ex 4: Lanci Multipli di un dado: spazio campionario pesato\n",
    "\n",
    "* la libreria collections\n",
    "    * implementa particolari collezioni alternative alle collezioni standard built-in di Python\n",
    "* defaultdict\n",
    "    * restituisce un dizionario alle cui chiavi è stato assegnato un valore di default \n",
    "    * defaultdict(int) valore associato ad ogni chaive è uguale a 0"
   ]
  },
  {
   "cell_type": "code",
   "execution_count": null,
   "metadata": {
    "slideshow": {
     "slide_type": "fragment"
    }
   },
   "outputs": [],
   "source": [
    "from collections import defaultdict\n",
    "weighted_sample_space = defaultdict(int)\n",
    "for outcome in sample_space:\n",
    "    total = sum(outcome)\n",
    "    weighted_sample_space[total] += 1\n",
    "    "
   ]
  },
  {
   "cell_type": "markdown",
   "metadata": {
    "slideshow": {
     "slide_type": "slide"
    }
   },
   "source": [
    "# Ex 4: Lanci Multipli di un dado: dimensione dello spazio"
   ]
  },
  {
   "cell_type": "code",
   "execution_count": null,
   "metadata": {
    "slideshow": {
     "slide_type": "fragment"
    }
   },
   "outputs": [],
   "source": [
    "print('Number of Elements in Unweighted Sample Space:')\n",
    "print(len(sample_space))\n",
    "print('Number of Elements in Weighted Sample Space:')\n",
    "print(len(weighted_sample_space))\n"
   ]
  },
  {
   "cell_type": "markdown",
   "metadata": {
    "slideshow": {
     "slide_type": "slide"
    }
   },
   "source": [
    "# Ex 4: Spazio campionario pesato proprietà"
   ]
  },
  {
   "cell_type": "code",
   "execution_count": null,
   "metadata": {
    "slideshow": {
     "slide_type": "fragment"
    }
   },
   "outputs": [],
   "source": [
    "assert weighted_sample_space[6] == 1\n",
    "assert weighted_sample_space[36] == 1\n"
   ]
  },
  {
   "cell_type": "code",
   "execution_count": null,
   "metadata": {
    "slideshow": {
     "slide_type": "fragment"
    }
   },
   "outputs": [],
   "source": [
    "num_combinations = weighted_sample_space[21]\n",
    "print(f\"There are {num_combinations } ways for 6 die rolls to sum to 21\")\n"
   ]
  },
  {
   "cell_type": "code",
   "execution_count": null,
   "metadata": {
    "slideshow": {
     "slide_type": "fragment"
    }
   },
   "outputs": [],
   "source": [
    "assert sum([4, 4, 4, 4, 3, 2]) == 21\n",
    "assert sum([4, 4, 4, 5, 3, 1]) == 21 \n"
   ]
  },
  {
   "cell_type": "markdown",
   "metadata": {
    "slideshow": {
     "slide_type": "slide"
    }
   },
   "source": [
    "# Ex 4: Calcolare la probabilità di eventi sullo spazio campionario"
   ]
  },
  {
   "cell_type": "code",
   "execution_count": null,
   "metadata": {
    "slideshow": {
     "slide_type": "fragment"
    }
   },
   "outputs": [],
   "source": [
    "def has_sum_of_21(outcome): return outcome == 21\n",
    "def has_sum_of_21_or_15(outcome): return outcome == 21 or outcome == 15\n"
   ]
  },
  {
   "cell_type": "markdown",
   "metadata": {
    "slideshow": {
     "slide_type": "fragment"
    }
   },
   "source": [
    "* definiamo cosa è un 'outcome' di questo esperimento\n",
    "* l'outcome relativo al lancio dei sei dadi è ovviamente una tupla di 6 valori\n",
    "*...ma noi abbiamo rappresentato lo spazio campionario come un insieme di coppie (chiave, valore), rappresentate da un dizionario\n",
    "* l'outcome, in questo caso, è la somma di valori delle 6 facce dei 6 dadi\n",
    "* su questi outcome definiamo delle condizioni"
   ]
  },
  {
   "cell_type": "markdown",
   "metadata": {
    "slideshow": {
     "slide_type": "slide"
    }
   },
   "source": [
    "# Ex 4: Calcolare la probabilità di eventi sullo spazio campionario"
   ]
  },
  {
   "cell_type": "code",
   "execution_count": null,
   "metadata": {
    "slideshow": {
     "slide_type": "fragment"
    }
   },
   "outputs": [],
   "source": [
    "def get_matching_event(event_condition, generic_sample_space):\n",
    "    a= set([key for key in generic_sample_space.keys() \n",
    "                if event_condition(key)])\n",
    "    return a"
   ]
  },
  {
   "cell_type": "markdown",
   "metadata": {
    "slideshow": {
     "slide_type": "fragment"
    }
   },
   "source": [
    "* occorre ridefinire la get_matching_event\n",
    "* parametri:\n",
    "    * event_condition: nome della funzione che verifica l'evento\n",
    "    * generic_sample_space: spazio campionario che ora è rappresentato con un dizionario\n",
    "    * mapping eventi elentari-chiavi del dizionario\n",
    "    * dictionary comprehension per estrarre tutte le chiavi dal dizionario e costruire una lista, che poi viene trasformata       in un insieme"
   ]
  },
  {
   "cell_type": "markdown",
   "metadata": {
    "slideshow": {
     "slide_type": "slide"
    }
   },
   "source": [
    "# Ex 4: Calcolare la probabilità di eventi sullo spazio campionario"
   ]
  },
  {
   "cell_type": "code",
   "execution_count": null,
   "metadata": {
    "slideshow": {
     "slide_type": "fragment"
    }
   },
   "outputs": [],
   "source": [
    "def compute_event_probability(event_condition, generic_sample_space):\n",
    "    event = get_matching_event(event_condition, generic_sample_space)   \n",
    "    event_size = sum(generic_sample_space[outcome] \n",
    "                               for outcome in event)\n",
    "    return event_size / sum(generic_sample_space.values())\n"
   ]
  },
  {
   "cell_type": "markdown",
   "metadata": {
    "slideshow": {
     "slide_type": "fragment"
    }
   },
   "source": [
    "* la get_matching_event restituisce l'insieme di eventi che soddisfano la condizione\n",
    "* ogni evento elementare (outcome) ha un peso, contenuto nel dizionario\n",
    "* accedo al dizionario con la chiave (outcome) e sommo tutti i pesi"
   ]
  },
  {
   "cell_type": "markdown",
   "metadata": {
    "slideshow": {
     "slide_type": "slide"
    }
   },
   "source": [
    "# Ex4: Calcolare la probabilità: il programma completo"
   ]
  },
  {
   "cell_type": "code",
   "execution_count": null,
   "metadata": {
    "slideshow": {
     "slide_type": "fragment"
    }
   },
   "outputs": [],
   "source": [
    "def has_sum_of_21(outcome): return outcome == 21\n",
    "def has_sum_of_21_or_15(outcome): return outcome == 21 or outcome == 15\n",
    "\n",
    "def get_matching_event(event_condition, generic_sample_space):\n",
    "    a= set([key for key in generic_sample_space.keys() \n",
    "                if event_condition(key)])\n",
    "    print (a)\n",
    "    return a\n",
    "\n",
    "def compute_event_probability(event_condition, generic_sample_space):\n",
    "    event = get_matching_event(event_condition, generic_sample_space)   \n",
    "    event_size = sum(generic_sample_space[outcome] \n",
    "                     for outcome in event)\n",
    "    return event_size / sum(generic_sample_space.values())\n",
    "\n",
    "prob = compute_event_probability(has_sum_of_21, \n",
    "                                 weighted_sample_space)\n",
    "\n",
    "print(prob)\n",
    "\n",
    "prob = compute_event_probability(has_sum_of_21_or_15, \n",
    "                                 weighted_sample_space)\n",
    "\n",
    "print(prob)\n"
   ]
  },
  {
   "cell_type": "markdown",
   "metadata": {
    "slideshow": {
     "slide_type": "slide"
    }
   },
   "source": [
    "# Ex 5: Lanci ripetuti di una moneta \"fair\"\n",
    "\n",
    "*  10 lanci di una moneta \"fair\"\n",
    "* valutare la probabilità di avere x volte testa per $0<x<10$\n",
    "* spazio campionario\n",
    "    *tutte le possibili sequenze di \"Head\" e \"Tail\"*\n",
    "    * **spazio pesato** costruito come nei lanci ripetuti di un dado"
   ]
  },
  {
   "cell_type": "markdown",
   "metadata": {
    "slideshow": {
     "slide_type": "slide"
    }
   },
   "source": [
    "# Ex 5: Lanci ripetuti di una moneta \"fair\""
   ]
  },
  {
   "cell_type": "code",
   "execution_count": null,
   "metadata": {
    "slideshow": {
     "slide_type": "fragment"
    }
   },
   "outputs": [],
   "source": [
    "def generate_coin_sample_space(num_flips=10): \n",
    "    weighted_sample_space = defaultdict(int)\n",
    "    for coin_flips in product(['Heads', 'Tails'], repeat=num_flips):\n",
    "        heads_count = len([outcome for outcome in coin_flips\n",
    "                                   if outcome == 'Heads']) \n",
    "        weighted_sample_space[heads_count] += 1\n",
    "\n",
    "    return weighted_sample_space\n",
    "\n",
    "weighted_sample_space = generate_coin_sample_space()\n",
    "assert weighted_sample_space[10] == 1\n",
    "assert weighted_sample_space[9] == 10\n",
    "print (weighted_sample_space)\n"
   ]
  },
  {
   "cell_type": "markdown",
   "metadata": {
    "slideshow": {
     "slide_type": "slide"
    }
   },
   "source": [
    "# Ex 5: Lanci ripetuti di una moneta"
   ]
  },
  {
   "cell_type": "code",
   "execution_count": null,
   "metadata": {
    "slideshow": {
     "slide_type": "fragment"
    }
   },
   "outputs": [],
   "source": [
    "def is_in_interval(number, minimum, maximum):\n",
    "    return minimum <= number <= maximum\n",
    "\n",
    "prob = compute_event_probability(lambda x: is_in_interval(x, 8, 10),\n",
    "                                 weighted_sample_space)\n",
    "print(f\"Probability of observing more than 7 heads is {prob}\")\n",
    "\n",
    "prob = compute_event_probability(lambda x: not is_in_interval(x, 3, 7),\n",
    "                                 weighted_sample_space)\n",
    "print(f\"Probability of observing more than 7 heads or 7 tails is {prob}\")\n"
   ]
  },
  {
   "cell_type": "markdown",
   "metadata": {
    "slideshow": {
     "slide_type": "slide"
    }
   },
   "source": [
    "# Data Visualization con Python: Matplotlib\n",
    "\n",
    "* funzionalità di base per la visualizzazione\n",
    "* altamente configurabile per produrre diversi tipi di grafi\n",
    "* strutture dati per i dati da visualizzare\n",
    "   * Python\n",
    "   * Pandas\n",
    "   * NumPy\n",
    "* base per Seaborn, una libreria con funzionlaità più avanzate\n",
    "* basic plot types\n",
    "    * line \n",
    "    * scatter\n",
    "    * bar plot\n",
    "    * histogram\n",
    "    * box plots (whisker plots)"
   ]
  },
  {
   "cell_type": "markdown",
   "metadata": {
    "slideshow": {
     "slide_type": "slide"
    }
   },
   "source": [
    "# Approfondimenti: MatPlotLib\n",
    "\n",
    "* libreria di plotting per Python e Numpy\n",
    "    \n",
    "* la libreria fornisce un framework generale per disegnare un gran numero di figure\n",
    "    \n",
    "* il modulo *pyplot* fornisce un approccio semplice per fare plot, con sintassi simile a quella di MatLab\n",
    "    * più semplice del moduli generale\n"
   ]
  },
  {
   "cell_type": "markdown",
   "metadata": {
    "slideshow": {
     "slide_type": "slide"
    }
   },
   "source": [
    "# Approfondimenti: MatPlotLib plotting script\n",
    "\n",
    "* importare i moduli richiesti\n",
    "         matplotlib.pyplot as plt\n",
    "* caricare o generare un insieme di dati\n",
    "* customizzare l'aspetto del plot\n",
    "* generare il plot\n",
    "    * plot()\n",
    "    * bar()\n",
    "    * pie()\n",
    "    * etc ....\n",
    "* mostrare il plot o salvarlo su un file\n",
    "    * plt.show()"
   ]
  },
  {
   "cell_type": "markdown",
   "metadata": {
    "slideshow": {
     "slide_type": "slide"
    }
   },
   "source": [
    "# Ex 5: Visualizzare spazio degli eventi: line plot"
   ]
  },
  {
   "cell_type": "code",
   "execution_count": null,
   "metadata": {
    "slideshow": {
     "slide_type": "fragment"
    }
   },
   "outputs": [],
   "source": [
    "import matplotlib.pyplot as plt\n",
    "x_10_flips = list(weighted_sample_space.keys())\n",
    "y_10_flips = [weighted_sample_space[key] for key in x_10_flips]\n",
    "plt.xlabel('Head-count')\n",
    "plt.ylabel('Number of coin-flip combinations with x heads')\n",
    "plt.plot(x_10_flips, y_10_flips)\n",
    "plt.grid()\n",
    "plt.show()\n"
   ]
  },
  {
   "cell_type": "markdown",
   "metadata": {
    "slideshow": {
     "slide_type": "slide"
    }
   },
   "source": [
    "# Ex 5: Visualizzare spazio degli eventi, scatter"
   ]
  },
  {
   "cell_type": "code",
   "execution_count": null,
   "metadata": {
    "slideshow": {
     "slide_type": "fragment"
    }
   },
   "outputs": [],
   "source": [
    "x_10_flips = list(weighted_sample_space.keys())\n",
    "y_10_flips = [weighted_sample_space[key] for key in x_10_flips]\n",
    "plt.scatter(x_10_flips, y_10_flips)\n",
    "plt.xlabel('Head-count')\n",
    "plt.ylabel('Number of coin-flip combinations with x heads')\n",
    "plt.grid()\n",
    "plt.show()\n"
   ]
  },
  {
   "cell_type": "markdown",
   "metadata": {
    "slideshow": {
     "slide_type": "slide"
    }
   },
   "source": [
    "# Ex 5: Visualizzare lo spazio degli eventi: Bar Plot"
   ]
  },
  {
   "cell_type": "code",
   "execution_count": null,
   "metadata": {
    "slideshow": {
     "slide_type": "fragment"
    }
   },
   "outputs": [],
   "source": [
    "print(weighted_sample_space)\n",
    "head_counts = list(weighted_sample_space.keys())\n",
    "head_values = list(weighted_sample_space.values())\n",
    "plt.bar(head_counts, head_values, color='blue')\n",
    "plt.xticks(head_counts)\n",
    "plt.xlabel('Head-count')\n",
    "plt.ylabel('Number of coin-flip combinations with x heads')\n",
    "plt.title(\"Head-count-10 coin flips\")\n",
    "plt.show()\n"
   ]
  },
  {
   "cell_type": "markdown",
   "metadata": {
    "slideshow": {
     "slide_type": "slide"
    }
   },
   "source": [
    "# Ex 5: Distribuzione probabilità dei lanci ripetuti: visualizzazione"
   ]
  },
  {
   "cell_type": "code",
   "execution_count": null,
   "metadata": {
    "slideshow": {
     "slide_type": "fragment"
    }
   },
   "outputs": [],
   "source": [
    "sample_space_size = sum(weighted_sample_space.values())\n",
    "prob_x_10_flips = [value / sample_space_size for value in y_10_flips]\n",
    "plt.xlabel('Head-count')\n",
    "plt.ylabel('Probability')\n",
    "plt.grid()\n",
    "plt.scatter(x_10_flips, prob_x_10_flips)\n",
    "plt.show()\n"
   ]
  },
  {
   "cell_type": "markdown",
   "metadata": {
    "slideshow": {
     "slide_type": "slide"
    }
   },
   "source": [
    "# Ex 5: Distribuzione probabilità dei lanci ripetuti: visualizzazione intervallo"
   ]
  },
  {
   "cell_type": "code",
   "execution_count": null,
   "metadata": {
    "slideshow": {
     "slide_type": "fragment"
    }
   },
   "outputs": [],
   "source": [
    "plt.plot(x_10_flips, prob_x_10_flips,ds=\"steps-pre\")\n",
    "plt.scatter(x_10_flips, prob_x_10_flips)\n",
    "where = [is_in_interval(value, 8, 10) for value in x_10_flips]\n",
    "plt.fill_between(x_10_flips, prob_x_10_flips, where=where, step=\"pre\")\n",
    "plt.xlabel('Head-count')\n",
    "plt.ylabel('Probability')\n",
    "plt.grid()\n",
    "plt.show()\n"
   ]
  },
  {
   "cell_type": "markdown",
   "metadata": {
    "slideshow": {
     "slide_type": "slide"
    }
   },
   "source": [
    "# Ex 5: Confrontare le distribuzioni di sequenze di lunghezza diversa"
   ]
  },
  {
   "cell_type": "code",
   "execution_count": null,
   "metadata": {
    "slideshow": {
     "slide_type": "fragment"
    }
   },
   "outputs": [],
   "source": [
    "weighted_sample_space_20_flips = generate_coin_sample_space(num_flips=20)\n",
    "x_20_flips = list(weighted_sample_space_20_flips.keys())\n",
    "y_20_flips = [weighted_sample_space_20_flips[key] for key in x_20_flips]\n",
    "sample_space_size = sum(weighted_sample_space_20_flips.values())\n",
    "prob_x_20_flips = [value / sample_space_size for value in y_20_flips]\n",
    "\n",
    "plt.plot(x_10_flips, prob_x_10_flips, color='black', linestyle='--',label='A: 10 coin-flips')\n",
    "plt.scatter(x_10_flips, prob_x_10_flips, color='black', marker='*')\n",
    "\n",
    "plt.plot(x_20_flips, prob_x_20_flips, color='green', linestyle='--',label='B: 20 coin-flips')\n",
    "plt.scatter(x_20_flips, prob_x_20_flips, color='green', marker='x')\n",
    "\n",
    "plt.xlabel('Head-count')\n",
    "plt.ylabel('Probability')\n",
    "plt.legend()\n",
    "plt.grid()\n",
    "plt.show()\n"
   ]
  },
  {
   "cell_type": "markdown",
   "metadata": {
    "slideshow": {
     "slide_type": "slide"
    }
   },
   "source": [
    "\n",
    "# Ex 5: Frequenze dell'evento \"Head\"\n",
    "\n",
    "* il grafico non consente di confrontare le curve, perchè calcolate su intervalli diversi\n",
    "\n",
    "* calcolando le \"frequenze\"  (percentuali) possiamo \"allineare\" le due curve\n",
    "\n",
    "* l'asse delle x rappresenta le frequenze, ovvero la percentuale di \"Head\" rilevate nell'esperimento, non il loro numero assoluto\n",
    "\n",
    "* l'asse delle y riporta la probabilità di avere quella percentuale di \"Head\"\n",
    "\n",
    "* nella grafico nella pagina successiva grafici \"allineati\""
   ]
  },
  {
   "cell_type": "markdown",
   "metadata": {
    "slideshow": {
     "slide_type": "slide"
    }
   },
   "source": [
    "#  Ex5: Frequenza dell'evento \"Head\""
   ]
  },
  {
   "cell_type": "code",
   "execution_count": null,
   "metadata": {
    "slideshow": {
     "slide_type": "fragment"
    }
   },
   "outputs": [],
   "source": [
    "x_10_frequencies = [head_count / 10 for head_count in x_10_flips]\n",
    "x_20_frequencies = [head_count / 20 for head_count in x_20_flips]\n",
    "\n",
    "plt.plot(x_10_frequencies, prob_x_10_flips, label='A: 10 coin-flips')\n",
    "plt.plot(x_20_frequencies, prob_x_20_flips, color='k', linestyle=':', label='B: 20 coin-flips')\n",
    "plt.legend()\n",
    "\n",
    "plt.xlabel('Head-Frequency')\n",
    "plt.ylabel('Probability')\n",
    "plt.show()\n"
   ]
  },
  {
   "cell_type": "markdown",
   "metadata": {
    "slideshow": {
     "slide_type": "slide"
    }
   },
   "source": [
    "# Ex 5: Frequenze dell'evento \"Head\": Relative Likelihood\n",
    "\n",
    "* la somma delle probabilità dei diversi eventi tuttavia non restituisce più 1: non stiamo più calcolando una probabilità!\n",
    "* abbiamo diviso, rispettivamente, per 10 e per 20\n",
    "* per ottenere una funzione di probabilità corretta, occorre moltiplicare i valori delle probabilità sull'asse delle y, rispettivamente, per 10 e per 20"
   ]
  },
  {
   "cell_type": "code",
   "execution_count": null,
   "metadata": {
    "slideshow": {
     "slide_type": "fragment"
    }
   },
   "outputs": [],
   "source": [
    "relative_likelihood_10 =[10* prob for prob in prob_x_10_flips]\n",
    "relative_likelihood_20 =[20* prob for prob in prob_x_20_flips]\n",
    "plt.plot(x_10_frequencies, relative_likelihood_10, label='A: 10 coin-flips')\n",
    "plt.plot(x_20_frequencies, relative_likelihood_20, color='k',\n",
    "         linestyle=':', label='B: 20 coin-flips')\n",
    "\n",
    "plt.legend()\n",
    "plt.xlabel('Head-Frequency')\n",
    "plt.ylabel('Relative Likelihood')\n",
    "plt.show()\n"
   ]
  },
  {
   "cell_type": "markdown",
   "metadata": {
    "slideshow": {
     "slide_type": "slide"
    }
   },
   "source": [
    "# Ex5: incrementando il numero di lanci......\n",
    "\n"
   ]
  },
  {
   "cell_type": "markdown",
   "metadata": {
    "slideshow": {
     "slide_type": "fragment"
    }
   },
   "source": [
    "<img src=\"GrandiNumeri.jpg\" style=\"width:1200px; height:700px;\" />"
   ]
  },
  {
   "cell_type": "markdown",
   "metadata": {},
   "source": [
    "* purtroppo impossibile su un qualsiasi laptop  per l'elevato carico computazionale (combinatorio)"
   ]
  },
  {
   "cell_type": "markdown",
   "metadata": {
    "slideshow": {
     "slide_type": "slide"
    }
   },
   "source": [
    "# Approfondimenti: Subplots"
   ]
  },
  {
   "cell_type": "code",
   "execution_count": null,
   "metadata": {
    "slideshow": {
     "slide_type": "fragment"
    }
   },
   "outputs": [],
   "source": [
    "plt.subplot(2, 1, 1)\n",
    "plt.plot(x_10_frequencies, prob_x_10_flips, label='A: 10 coin-flips')\n",
    "plt.plot(x_20_frequencies, prob_x_20_flips, color='k', linestyle=':', label='B: 20 coin-flips')\n",
    "plt.legend()\n",
    "plt.xlabel('Head-Frequency')\n",
    "plt.ylabel('Probability')\n",
    "\n",
    "plt.subplot(2, 1, 2)\n",
    "relative_likelihood_10 =[10* prob for prob in prob_x_10_flips]\n",
    "relative_likelihood_20 =[20* prob for prob in prob_x_20_flips]\n",
    "plt.plot(x_10_frequencies, relative_likelihood_10, label='A: 10 coin-flips')\n",
    "plt.plot(x_20_frequencies, relative_likelihood_20, color='k',\n",
    "         linestyle=':', label='B: 20 coin-flips')\n",
    "\n",
    "plt.legend()\n",
    "plt.xlabel('Head-Frequency')\n",
    "plt.ylabel('Relative Likelihood')\n",
    "\n",
    "\n",
    "plt.show()\n"
   ]
  },
  {
   "cell_type": "markdown",
   "metadata": {
    "slideshow": {
     "slide_type": "slide"
    }
   },
   "source": [
    "# Approfondimenti: Subplots"
   ]
  },
  {
   "cell_type": "code",
   "execution_count": null,
   "metadata": {
    "slideshow": {
     "slide_type": "fragment"
    }
   },
   "outputs": [],
   "source": [
    "plt.subplot(1, 2, 1)\n",
    "plt.plot(x_10_frequencies, prob_x_10_flips, label='A: 10 coin-flips')\n",
    "plt.plot(x_20_frequencies, prob_x_20_flips, color='k', linestyle=':', label='B: 20 coin-flips')\n",
    "plt.legend()\n",
    "plt.xlabel('Head-Frequency')\n",
    "plt.ylabel('Probability')\n",
    "\n",
    "plt.subplot(1, 2, 2)\n",
    "relative_likelihood_10 =[10* prob for prob in prob_x_10_flips]\n",
    "relative_likelihood_20 =[20* prob for prob in prob_x_20_flips]\n",
    "plt.plot(x_10_frequencies, relative_likelihood_10, label='A: 10 coin-flips')\n",
    "plt.plot(x_20_frequencies, relative_likelihood_20, color='k',\n",
    "         linestyle=':', label='B: 20 coin-flips')\n",
    "\n",
    "plt.legend()\n",
    "plt.xlabel('Head-Frequency')\n",
    "plt.ylabel('Relative Likelihood')\n",
    "\n",
    "\n",
    "plt.show()\n"
   ]
  },
  {
   "cell_type": "markdown",
   "metadata": {
    "slideshow": {
     "slide_type": "slide"
    }
   },
   "source": [
    "# Es 6: Simulare lanci multipli della moneta: NumPy\n",
    "\n",
    "* vogliamo simulare una sequenza di lanci di moneta\n",
    "* l'outcome di ogni lancio di moneta verrà simulato con una funzione che restituisce un numero casuale\n",
    "* utlizziamo per questo la libreria numpy\n",
    "    * modulo random della libreria\n",
    "    * funzione np.random.randint"
   ]
  },
  {
   "cell_type": "markdown",
   "metadata": {
    "slideshow": {
     "slide_type": "slide"
    }
   },
   "source": [
    "# Es 6: Legge dei grandi numeri"
   ]
  },
  {
   "cell_type": "code",
   "execution_count": null,
   "metadata": {
    "slideshow": {
     "slide_type": "fragment"
    }
   },
   "outputs": [],
   "source": [
    "import numpy as np\n",
    "np.random.seed(0)\n",
    "def frequency_heads(coin_flip_sequence):\n",
    "    total_heads = len([head for head in coin_flip_sequence if head == 1])\n",
    "    return total_heads / len(coin_flip_sequence)\n",
    "coin_flips = []\n",
    "frequencies = []\n",
    "for _ in range(1000):\n",
    "    coin_flips.append(np.random.randint(0, 2))\n",
    "    frequencies.append(frequency_heads(coin_flips))\n",
    "\n",
    "plt.plot(list(range(1000)), frequencies)\n",
    "plt.axhline(0.5, color='k')\n",
    "plt.xlabel('Number of Coin Flips')\n",
    "plt.ylabel('Head-Frequency')\n",
    "plt.show()\n"
   ]
  },
  {
   "cell_type": "code",
   "execution_count": null,
   "metadata": {},
   "outputs": [],
   "source": []
  }
 ],
 "metadata": {
  "celltoolbar": "Slideshow",
  "kernelspec": {
   "display_name": "Python 3",
   "language": "python",
   "name": "python3"
  },
  "language_info": {
   "codemirror_mode": {
    "name": "ipython",
    "version": 3
   },
   "file_extension": ".py",
   "mimetype": "text/x-python",
   "name": "python",
   "nbconvert_exporter": "python",
   "pygments_lexer": "ipython3",
   "version": "3.10.6"
  },
  "vscode": {
   "interpreter": {
    "hash": "916dbcbb3f70747c44a77c7bcd40155683ae19c65e1c03b4aa3499c5328201f1"
   }
  }
 },
 "nbformat": 4,
 "nbformat_minor": 4
}
