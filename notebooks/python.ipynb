{
 "cells": [
  {
   "cell_type": "markdown",
   "metadata": {
    "slideshow": {
     "slide_type": "slide"
    }
   },
   "source": [
    "# Python"
   ]
  },
  {
   "cell_type": "markdown",
   "metadata": {
    "slideshow": {
     "slide_type": "slide"
    }
   },
   "source": [
    "## Print"
   ]
  },
  {
   "cell_type": "code",
   "execution_count": 3,
   "metadata": {
    "scrolled": true,
    "slideshow": {
     "slide_type": "-"
    }
   },
   "outputs": [
    {
     "name": "stdout",
     "output_type": "stream",
     "text": [
      "Hello World!\n"
     ]
    }
   ],
   "source": [
    "print(\"Hello World!\")"
   ]
  },
  {
   "cell_type": "markdown",
   "metadata": {
    "slideshow": {
     "slide_type": "-"
    }
   },
   "source": [
    "La funzione ```print```ha il compito di stampare a schermo ciò che le viene passato come parametro"
   ]
  },
  {
   "cell_type": "markdown",
   "metadata": {
    "slideshow": {
     "slide_type": "slide"
    }
   },
   "source": [
    "Se le vengono passati più parametri questa inserisce uno spazio"
   ]
  },
  {
   "cell_type": "code",
   "execution_count": 4,
   "metadata": {
    "scrolled": true,
    "slideshow": {
     "slide_type": "-"
    }
   },
   "outputs": [
    {
     "name": "stdout",
     "output_type": "stream",
     "text": [
      "Hello World !\n"
     ]
    }
   ],
   "source": [
    "print(\"Hello\", \"World\", \"!\")"
   ]
  },
  {
   "cell_type": "markdown",
   "metadata": {
    "slideshow": {
     "slide_type": "-"
    }
   },
   "source": [
    "Il numero di parametri è variabile"
   ]
  },
  {
   "cell_type": "markdown",
   "metadata": {
    "slideshow": {
     "slide_type": "slide"
    }
   },
   "source": [
    "## Tipi in Python"
   ]
  },
  {
   "cell_type": "markdown",
   "metadata": {
    "slideshow": {
     "slide_type": "-"
    }
   },
   "source": [
    "I tipi nativi più usati sono\n",
    "- interi, float e stringhe\n",
    "- liste, tuple, insiemi e dizionari"
   ]
  },
  {
   "cell_type": "code",
   "execution_count": 16,
   "metadata": {
    "slideshow": {
     "slide_type": "fragment"
    }
   },
   "outputs": [
    {
     "name": "stdout",
     "output_type": "stream",
     "text": [
      "<class 'int'>: 10\n",
      "<class 'float'>: 5.2\n",
      "<class 'str'>: stringa di prova\n",
      "<class 'list'>: [1, 2, 3]\n",
      "<class 'tuple'>: (1, 2)\n",
      "<class 'set'>: {1, 2, 3, 6, 7}\n",
      "<class 'dict'>: {1: 'uno', 2: 'due', 3: 'tre'}\n"
     ]
    }
   ],
   "source": [
    "intero = 10\n",
    "print(f\"{type(intero)}: {intero}\")\n",
    "decimale = 5.2\n",
    "print(f\"{type(decimale)}: {decimale}\")\n",
    "stringa = \"stringa di prova\"\n",
    "print(f\"{type(stringa)}: {stringa}\")\n",
    "lista = [1, 2, 3]\n",
    "print(f\"{type(lista)}: {lista}\")\n",
    "tupla = (1, 2)\n",
    "print(f\"{type(tupla)}: {tupla}\")\n",
    "insieme = {3, 1, 6, 7, 2}\n",
    "print(f\"{type(insieme)}: {insieme}\")\n",
    "dizionario = {1 : \"uno\", 2 : \"due\", 3 : \"tre\"}\n",
    "print(f\"{type(dizionario)}: {dizionario}\")"
   ]
  }
 ],
 "metadata": {
  "celltoolbar": "Slideshow",
  "kernelspec": {
   "display_name": "Python 3 (ipykernel)",
   "language": "python",
   "name": "python3"
  },
  "language_info": {
   "codemirror_mode": {
    "name": "ipython",
    "version": 3
   },
   "file_extension": ".py",
   "mimetype": "text/x-python",
   "name": "python",
   "nbconvert_exporter": "python",
   "pygments_lexer": "ipython3",
   "version": "3.10.6"
  },
  "rise": {
   "scroll": true
  },
  "vscode": {
   "interpreter": {
    "hash": "916dbcbb3f70747c44a77c7bcd40155683ae19c65e1c03b4aa3499c5328201f1"
   }
  }
 },
 "nbformat": 4,
 "nbformat_minor": 2
}
